{
 "cells": [
  {
   "cell_type": "code",
   "execution_count": 4,
   "id": "emerging-exhibition",
   "metadata": {},
   "outputs": [
    {
     "name": "stdout",
     "output_type": "stream",
     "text": [
      "22\n"
     ]
    }
   ],
   "source": [
    " x = \"123463\"\n",
    " d = x[1] + x[1]\n",
    " print(d)"
   ]
  },
  {
   "cell_type": "code",
   "execution_count": 2,
   "id": "traditional-shirt",
   "metadata": {},
   "outputs": [
    {
     "output_type": "stream",
     "name": "stdout",
     "text": [
      "\t\n5\t6\t7\t8\t9\t\t\n\t\n10\t12\t14\t16\t18\t\t\n\t\n15\t18\t21\t24\t27\t\t\n\t\n20\t24\t28\t32\t36\t\t\n\t\n25\t30\t35\t40\t45\t\t\n\t\n30\t36\t42\t48\t54\t\t\n\t\n35\t42\t49\t56\t63\t\t\n\t\n40\t48\t56\t64\t72\t\t\n\t\n45\t54\t63\t72\t81\t\t\n\t\n50\t60\t70\t80\t90\t\t\n"
     ]
    }
   ],
   "source": [
    " mini = int(input(\"Enter 1st value =  \"))\n",
    " maxi = int(input(\"Enter 2nd value =  \"))\n",
    " \n",
    " if mini < maxi:\n",
    "     for i in range(1, 11):\n",
    "         print(\"\\t\")\n",
    "         for j in range(mini, maxi + 1):\n",
    "             print(i * j, end=\"\\t\")\n",
    "         print(\"\\t\")\n",
    " else:\n",
    "     for i in range(1, 11):\n",
    "         print(\"\\t\")\n",
    "         for j in range(maxi, mini + 1):\n",
    "             print(i * j, end=\"\\t\")"
   ]
  },
  {
   "cell_type": "code",
   "execution_count": 1,
   "id": "supported-blair",
   "metadata": {},
   "outputs": [
    {
     "name": "stdout",
     "output_type": "stream",
     "text": [
      "1 to 10 table\n",
      "\t\n",
      "1\t2\t3\t4\t5\t6\t7\t8\t9\t10\t\t\n",
      "\t\n",
      "2\t4\t6\t8\t10\t12\t14\t16\t18\t20\t\t\n",
      "\t\n",
      "3\t6\t9\t12\t15\t18\t21\t24\t27\t30\t\t\n",
      "\t\n",
      "4\t8\t12\t16\t20\t24\t28\t32\t36\t40\t\t\n",
      "\t\n",
      "5\t10\t15\t20\t25\t30\t35\t40\t45\t50\t\t\n",
      "\t\n",
      "6\t12\t18\t24\t30\t36\t42\t48\t54\t60\t\t\n",
      "\t\n",
      "7\t14\t21\t28\t35\t42\t49\t56\t63\t70\t\t\n",
      "\t\n",
      "8\t16\t24\t32\t40\t48\t56\t64\t72\t80\t\t\n",
      "\t\n",
      "9\t18\t27\t36\t45\t54\t63\t72\t81\t90\t\t\n",
      "\t\n",
      "10\t20\t30\t40\t50\t60\t70\t80\t90\t100\t\t\n"
     ]
    }
   ],
   "source": [
    " print(\"1 to 10 table\")\n",
    "\n",
    " for i in range(1,11):\n",
    "     print(\"\\t\")\n",
    "     for j in range(1,11):\n",
    "         print(i*j, end= \"\\t\" )\n",
    "     print(\"\\t\")"
   ]
  },
  {
   "cell_type": "code",
   "execution_count": 5,
   "id": "instructional-homework",
   "metadata": {},
   "outputs": [
    {
     "output_type": "stream",
     "name": "stdout",
     "text": [
      "🌔\n"
     ]
    }
   ],
   "source": [
    "# Emoji\n",
    "import emojis\n",
    "emoji = input(\"What you want = \")\n",
    "print(emojis.encode(\":\"+emoji+\":\"))"
   ]
  },
  {
   "cell_type": "code",
   "execution_count": 7,
   "id": "meaningful-spring",
   "metadata": {},
   "outputs": [
    {
     "name": "stdout",
     "output_type": "stream",
     "text": [
      "I love py❤py❤\n"
     ]
    }
   ],
   "source": [
    "x = \"py❤\"\n",
    "y = x * 2\n",
    "z = \"I love \"\n",
    "print(z+y)"
   ]
  },
  {
   "cell_type": "code",
   "execution_count": null,
   "id": "noticed-classic",
   "metadata": {},
   "outputs": [],
   "source": []
  }
 ],
 "metadata": {
  "kernelspec": {
   "display_name": "Python 3",
   "language": "python",
   "name": "python3"
  },
  "language_info": {
   "codemirror_mode": {
    "name": "ipython",
    "version": 3
   },
   "file_extension": ".py",
   "mimetype": "text/x-python",
   "name": "python",
   "nbconvert_exporter": "python",
   "pygments_lexer": "ipython3",
   "version": "3.6.9-final"
  }
 },
 "nbformat": 4,
 "nbformat_minor": 5
}